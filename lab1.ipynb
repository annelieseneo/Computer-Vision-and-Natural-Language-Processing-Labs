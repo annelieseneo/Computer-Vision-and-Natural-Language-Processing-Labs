{
  "nbformat": 4,
  "nbformat_minor": 0,
  "metadata": {
    "colab": {
      "name": "lab1.ipynb",
      "provenance": [],
      "collapsed_sections": []
    },
    "kernelspec": {
      "name": "python3",
      "display_name": "Python 3"
    },
    "language_info": {
      "name": "python"
    }
  },
  "cells": [
    {
      "cell_type": "markdown",
      "metadata": {
        "id": "5k9YcsqjuQ1H"
      },
      "source": [
        "NLTK Library and Operations"
      ]
    },
    {
      "cell_type": "code",
      "metadata": {
        "id": "aVm6Ag8e_Sus",
        "colab": {
          "base_uri": "https://localhost:8080/"
        },
        "outputId": "4f0f1a0c-b060-43c1-99dc-1fd8785d7dd5"
      },
      "source": [
        "# NLTK Setup\n",
        "import nltk\n",
        "nltk.download('gutenberg')\n",
        "nltk.download('genesis')\n",
        "nltk.download('inaugural')\n",
        "nltk.download('nps_chat')\n",
        "nltk.download('webtext')\n",
        "nltk.download('treebank')\n",
        "from nltk.book import *"
      ],
      "execution_count": null,
      "outputs": [
        {
          "output_type": "stream",
          "text": [
            "[nltk_data] Downloading package gutenberg to /root/nltk_data...\n",
            "[nltk_data]   Unzipping corpora/gutenberg.zip.\n",
            "[nltk_data] Downloading package genesis to /root/nltk_data...\n",
            "[nltk_data]   Unzipping corpora/genesis.zip.\n",
            "[nltk_data] Downloading package inaugural to /root/nltk_data...\n",
            "[nltk_data]   Unzipping corpora/inaugural.zip.\n",
            "[nltk_data] Downloading package nps_chat to /root/nltk_data...\n",
            "[nltk_data]   Unzipping corpora/nps_chat.zip.\n",
            "[nltk_data] Downloading package webtext to /root/nltk_data...\n",
            "[nltk_data]   Unzipping corpora/webtext.zip.\n",
            "[nltk_data] Downloading package treebank to /root/nltk_data...\n",
            "[nltk_data]   Unzipping corpora/treebank.zip.\n",
            "*** Introductory Examples for the NLTK Book ***\n",
            "Loading text1, ..., text9 and sent1, ..., sent9\n",
            "Type the name of the text or sentence to view it.\n",
            "Type: 'texts()' or 'sents()' to list the materials.\n",
            "text1: Moby Dick by Herman Melville 1851\n",
            "text2: Sense and Sensibility by Jane Austen 1811\n",
            "text3: The Book of Genesis\n",
            "text4: Inaugural Address Corpus\n",
            "text5: Chat Corpus\n",
            "text6: Monty Python and the Holy Grail\n",
            "text7: Wall Street Journal\n",
            "text8: Personals Corpus\n",
            "text9: The Man Who Was Thursday by G . K . Chesterton 1908\n"
          ],
          "name": "stdout"
        }
      ]
    },
    {
      "cell_type": "code",
      "metadata": {
        "id": "pto4fzFj_Vmz",
        "colab": {
          "base_uri": "https://localhost:8080/"
        },
        "outputId": "77698c6b-f877-4f19-e87c-2dcc579fc419"
      },
      "source": [
        "print(type(text1))"
      ],
      "execution_count": null,
      "outputs": [
        {
          "output_type": "stream",
          "text": [
            "<class 'nltk.text.Text'>\n"
          ],
          "name": "stdout"
        }
      ]
    },
    {
      "cell_type": "code",
      "metadata": {
        "colab": {
          "base_uri": "https://localhost:8080/"
        },
        "id": "XrSvwHbJo5HY",
        "outputId": "a0778beb-02f0-455e-dbb0-5c0626eb8a08"
      },
      "source": [
        "print(len(text1))"
      ],
      "execution_count": null,
      "outputs": [
        {
          "output_type": "stream",
          "text": [
            "260819\n"
          ],
          "name": "stdout"
        }
      ]
    },
    {
      "cell_type": "code",
      "metadata": {
        "colab": {
          "base_uri": "https://localhost:8080/"
        },
        "id": "rec1qekCo5Zo",
        "outputId": "382202e1-cb95-484a-d11d-8faeb8fc3d5f"
      },
      "source": [
        "print(len(set(text1)))"
      ],
      "execution_count": null,
      "outputs": [
        {
          "output_type": "stream",
          "text": [
            "19317\n"
          ],
          "name": "stdout"
        }
      ]
    },
    {
      "cell_type": "code",
      "metadata": {
        "colab": {
          "base_uri": "https://localhost:8080/"
        },
        "id": "UokmHchXo5dD",
        "outputId": "0c13a5ad-a709-4249-f100-ccbe2c96035a"
      },
      "source": [
        "print(text1[:10])"
      ],
      "execution_count": null,
      "outputs": [
        {
          "output_type": "stream",
          "text": [
            "['[', 'Moby', 'Dick', 'by', 'Herman', 'Melville', '1851', ']', 'ETYMOLOGY', '.']\n"
          ],
          "name": "stdout"
        }
      ]
    },
    {
      "cell_type": "code",
      "metadata": {
        "colab": {
          "base_uri": "https://localhost:8080/"
        },
        "id": "vQ59wJ1Po5gU",
        "outputId": "b8358c44-2afc-4ab1-da57-c62886d8fada"
      },
      "source": [
        "print(text2[:10])"
      ],
      "execution_count": null,
      "outputs": [
        {
          "output_type": "stream",
          "text": [
            "['[', 'Sense', 'and', 'Sensibility', 'by', 'Jane', 'Austen', '1811', ']', 'CHAPTER']\n"
          ],
          "name": "stdout"
        }
      ]
    },
    {
      "cell_type": "code",
      "metadata": {
        "colab": {
          "base_uri": "https://localhost:8080/"
        },
        "id": "LcxaLp3rpFWi",
        "outputId": "dcf266c6-2aa7-4c69-8c38-d26c1f6ee222"
      },
      "source": [
        "from nltk.corpus import gutenberg\n",
        "print(gutenberg.fileids())"
      ],
      "execution_count": null,
      "outputs": [
        {
          "output_type": "stream",
          "text": [
            "['austen-emma.txt', 'austen-persuasion.txt', 'austen-sense.txt', 'bible-kjv.txt', 'blake-poems.txt', 'bryant-stories.txt', 'burgess-busterbrown.txt', 'carroll-alice.txt', 'chesterton-ball.txt', 'chesterton-brown.txt', 'chesterton-thursday.txt', 'edgeworth-parents.txt', 'melville-moby_dick.txt', 'milton-paradise.txt', 'shakespeare-caesar.txt', 'shakespeare-hamlet.txt', 'shakespeare-macbeth.txt', 'whitman-leaves.txt']\n"
          ],
          "name": "stdout"
        }
      ]
    },
    {
      "cell_type": "code",
      "metadata": {
        "colab": {
          "base_uri": "https://localhost:8080/"
        },
        "id": "Mm_AJDlfpFdL",
        "outputId": "0da9e014-f988-4065-e8f1-57ccc2fdbf03"
      },
      "source": [
        "hamlet = gutenberg.words('shakespeare-hamlet.txt')\n",
        "print(len(hamlet))"
      ],
      "execution_count": null,
      "outputs": [
        {
          "output_type": "stream",
          "text": [
            "37360\n"
          ],
          "name": "stdout"
        }
      ]
    },
    {
      "cell_type": "code",
      "metadata": {
        "colab": {
          "base_uri": "https://localhost:8080/"
        },
        "id": "VR9zDJhWpFga",
        "outputId": "bc014742-f2e2-42c2-ac20-f623dfea9bab"
      },
      "source": [
        "nltk.download('punkt')\n",
        "hamlet_sentences = gutenberg.sents('shakespeare-hamlet.txt')\n",
        "print(len(hamlet_sentences))"
      ],
      "execution_count": null,
      "outputs": [
        {
          "output_type": "stream",
          "text": [
            "[nltk_data] Downloading package punkt to /root/nltk_data...\n",
            "[nltk_data]   Unzipping tokenizers/punkt.zip.\n",
            "3106\n"
          ],
          "name": "stdout"
        }
      ]
    },
    {
      "cell_type": "code",
      "metadata": {
        "colab": {
          "base_uri": "https://localhost:8080/"
        },
        "id": "kYPsDXIupFj2",
        "outputId": "43775c8e-c00b-4e3e-9821-8a9eaf5aa41a"
      },
      "source": [
        "print(hamlet_sentences[1024])"
      ],
      "execution_count": null,
      "outputs": [
        {
          "output_type": "stream",
          "text": [
            "['What', 'say', 'you', '?']\n"
          ],
          "name": "stdout"
        }
      ]
    },
    {
      "cell_type": "code",
      "metadata": {
        "colab": {
          "base_uri": "https://localhost:8080/"
        },
        "id": "5KFD9drvpna5",
        "outputId": "513f6dc8-659f-4ec3-d7a5-22ae479ad360"
      },
      "source": [
        "print(len(gutenberg.paras('shakespeare-hamlet.txt')))"
      ],
      "execution_count": null,
      "outputs": [
        {
          "output_type": "stream",
          "text": [
            "950\n"
          ],
          "name": "stdout"
        }
      ]
    },
    {
      "cell_type": "code",
      "metadata": {
        "colab": {
          "base_uri": "https://localhost:8080/"
        },
        "id": "-leCARQ5pnjg",
        "outputId": "8f3ae530-6f5d-40b1-dc90-2fc166445d2f"
      },
      "source": [
        "print(text1.count('horse'))"
      ],
      "execution_count": null,
      "outputs": [
        {
          "output_type": "stream",
          "text": [
            "26\n"
          ],
          "name": "stdout"
        }
      ]
    },
    {
      "cell_type": "code",
      "metadata": {
        "colab": {
          "base_uri": "https://localhost:8080/"
        },
        "id": "UnHODRd9pnmQ",
        "outputId": "1a95eb2c-e4d9-484a-e4c4-e26bf850db72"
      },
      "source": [
        "print(\"Context of \\\"\" + \"passion\" + \"\\\" in text1\")\n",
        "print(text1.concordance('passion'))\n",
        "\n",
        "print(\"Context of \\\"\" + \"passion\" + \"\\\" in text2\")\n",
        "print(text2.concordance('passion'))"
      ],
      "execution_count": null,
      "outputs": [
        {
          "output_type": "stream",
          "text": [
            "Context of \"passion\" in text1\n",
            "Displaying 7 of 7 matches:\n",
            "r him ,\" said I , now flying into a passion again at this unaccountable farrago\n",
            " employed in the celebration of the Passion of our Lord ; though in the Vision \n",
            "ce all mortal interests to that one passion ; nevertheless it may have been tha\n",
            "ing with the wildness of his ruling passion , yet were by no means incapable of\n",
            "it , however promissory of life and passion in the end , it is above all things\n",
            "o ' s lordly chest . So have I seen Passion and Vanity stamping the living magn\n",
            " Guernseyman , flying into a sudden passion . \" Oh ! keep cool -- cool ? yes , \n",
            "None\n",
            "Context of \"passion\" in text2\n",
            "Displaying 5 of 5 matches:\n",
            "one ,\" said Elinor , \" who has your passion for dead leaves .\" \" No ; my feelin\n",
            "r daughters , without extending the passion to her ; and Elinor had the satisfa\n",
            "r , if he was to be in the greatest passion !-- and Mr . Donavan thinks just th\n",
            "edness I could have borne , but her passion -- her malice -- At all events it m\n",
            "ling a sacrifice to an irresistible passion , as once she had fondly flattered \n",
            "None\n"
          ],
          "name": "stdout"
        }
      ]
    },
    {
      "cell_type": "code",
      "metadata": {
        "colab": {
          "base_uri": "https://localhost:8080/"
        },
        "id": "2iv_nf0ip4NH",
        "outputId": "1388e54f-cf71-4713-d1a3-2cef7c07e3fc"
      },
      "source": [
        "vocab = nltk.FreqDist(text1)\n",
        "print(len(vocab))"
      ],
      "execution_count": null,
      "outputs": [
        {
          "output_type": "stream",
          "text": [
            "19317\n"
          ],
          "name": "stdout"
        }
      ]
    },
    {
      "cell_type": "code",
      "metadata": {
        "colab": {
          "base_uri": "https://localhost:8080/"
        },
        "id": "eHMUAFUMp4Pv",
        "outputId": "b463d0b1-ae4e-4a8c-9986-d8b6bd13bef6"
      },
      "source": [
        "print(vocab.most_common(20))"
      ],
      "execution_count": null,
      "outputs": [
        {
          "output_type": "stream",
          "text": [
            "[(',', 18713), ('the', 13721), ('.', 6862), ('of', 6536), ('and', 6024), ('a', 4569), ('to', 4542), (';', 4072), ('in', 3916), ('that', 2982), (\"'\", 2684), ('-', 2552), ('his', 2459), ('it', 2209), ('I', 2124), ('s', 1739), ('is', 1695), ('he', 1661), ('with', 1659), ('was', 1632)]\n"
          ],
          "name": "stdout"
        }
      ]
    },
    {
      "cell_type": "code",
      "metadata": {
        "colab": {
          "base_uri": "https://localhost:8080/"
        },
        "id": "Xh5th4X9p4Sz",
        "outputId": "7c3168ea-5d41-4e91-8f4c-d498a3c1ba4a"
      },
      "source": [
        "mc = sorted([w for w in vocab.most_common(80) if len(w[0]) > 3], key = lambda x: x[1], reverse = True)\n",
        "print(mc)"
      ],
      "execution_count": null,
      "outputs": [
        {
          "output_type": "stream",
          "text": [
            "[('that', 2982), ('with', 1659), ('this', 1280), ('from', 1052), ('whale', 906), ('have', 760), ('there', 715), ('were', 680), ('which', 640), ('like', 624), ('their', 612), ('they', 586), ('some', 578), ('then', 571), ('when', 553), ('upon', 538), ('into', 520), ('ship', 507), ('more', 501), ('Ahab', 501), ('them', 471), ('what', 442), ('would', 421), ('been', 415), ('other', 412), ('over', 403)]\n"
          ],
          "name": "stdout"
        }
      ]
    },
    {
      "cell_type": "code",
      "metadata": {
        "colab": {
          "base_uri": "https://localhost:8080/",
          "height": 295
        },
        "id": "aiqSv0OHpnps",
        "outputId": "072de7d1-4bb1-41cc-8e49-19e8f62cfe00"
      },
      "source": [
        "text1.dispersion_plot(['capture', 'whale', 'life', 'death', 'kill'])"
      ],
      "execution_count": null,
      "outputs": [
        {
          "output_type": "display_data",
          "data": {
            "image/png": "[encoded data removed]",
            "text/plain": [
              "<Figure size 432x288 with 1 Axes>"
            ]
          },
          "metadata": {
            "tags": [],
            "needs_background": "light"
          }
        }
      ]
    },
    {
      "cell_type": "code",
      "metadata": {
        "colab": {
          "base_uri": "https://localhost:8080/"
        },
        "id": "W79H5aXOq_xz",
        "outputId": "a9b399f1-d0f2-49f6-8ec8-ad3bc4eeda16"
      },
      "source": [
        "nltk.download('wordnet')\n",
        "from nltk.corpus import wordnet as wn\n",
        "w = wn.synsets(\"vacillate\")[0]"
      ],
      "execution_count": null,
      "outputs": [
        {
          "output_type": "stream",
          "text": [
            "[nltk_data] Downloading package wordnet to /root/nltk_data...\n",
            "[nltk_data]   Package wordnet is already up-to-date!\n"
          ],
          "name": "stdout"
        }
      ]
    },
    {
      "cell_type": "code",
      "metadata": {
        "colab": {
          "base_uri": "https://localhost:8080/"
        },
        "id": "Jgn8UIurrRSz",
        "outputId": "3367a750-e40b-4479-def5-b715d682d868"
      },
      "source": [
        "print(w.name(), '=', w.definition())\n",
        "print('Example = ', w.examples())"
      ],
      "execution_count": null,
      "outputs": [
        {
          "output_type": "stream",
          "text": [
            "hover.v.01 = be undecided about something; waver between conflicting positions or courses of action\n",
            "Example =  ['He oscillates between accepting the new position and retirement']\n"
          ],
          "name": "stdout"
        }
      ]
    }
  ]
}