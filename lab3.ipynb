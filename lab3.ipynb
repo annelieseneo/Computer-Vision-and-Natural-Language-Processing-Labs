{
  "nbformat": 4,
  "nbformat_minor": 0,
  "metadata": {
    "colab": {
      "name": "lab3.ipynb",
      "provenance": [],
      "collapsed_sections": []
    },
    "kernelspec": {
      "name": "python3",
      "display_name": "Python 3"
    },
    "language_info": {
      "name": "python"
    }
  },
  "cells": [
    {
      "cell_type": "markdown",
      "metadata": {
        "id": "V3uorCs2fMhA"
      },
      "source": [
        "NLP and Tagging"
      ]
    },
    {
      "cell_type": "code",
      "metadata": {
        "id": "Xymk6KrexWuL",
        "colab": {
          "base_uri": "https://localhost:8080/"
        },
        "outputId": "828bcf06-0602-48d1-c711-1d4223fcce53"
      },
      "source": [
        "import nltk\n",
        "nltk.download('brown')\n",
        "from nltk.corpus import brown\n",
        "brown.categories()"
      ],
      "execution_count": null,
      "outputs": [
        {
          "output_type": "stream",
          "text": [
            "[nltk_data] Downloading package brown to /root/nltk_data...\n",
            "[nltk_data]   Unzipping corpora/brown.zip.\n"
          ],
          "name": "stdout"
        },
        {
          "output_type": "execute_result",
          "data": {
            "text/plain": [
              "['adventure',\n",
              " 'belles_lettres',\n",
              " 'editorial',\n",
              " 'fiction',\n",
              " 'government',\n",
              " 'hobbies',\n",
              " 'humor',\n",
              " 'learned',\n",
              " 'lore',\n",
              " 'mystery',\n",
              " 'news',\n",
              " 'religion',\n",
              " 'reviews',\n",
              " 'romance',\n",
              " 'science_fiction']"
            ]
          },
          "metadata": {
            "tags": []
          },
          "execution_count": 1
        }
      ]
    },
    {
      "cell_type": "code",
      "metadata": {
        "colab": {
          "base_uri": "https://localhost:8080/"
        },
        "id": "c_I8RzsGtxi6",
        "outputId": "de1779c9-97ec-4ce3-cb9e-2c68143381ec"
      },
      "source": [
        "brown.words(categories='fiction')"
      ],
      "execution_count": null,
      "outputs": [
        {
          "output_type": "execute_result",
          "data": {
            "text/plain": [
              "['Thirty-three', 'Scotty', 'did', 'not', 'go', 'back', ...]"
            ]
          },
          "metadata": {
            "tags": []
          },
          "execution_count": 2
        }
      ]
    },
    {
      "cell_type": "code",
      "metadata": {
        "colab": {
          "base_uri": "https://localhost:8080/"
        },
        "id": "WoTd8sJLtxl9",
        "outputId": "fdc3ca9c-f183-45ff-9189-2933024a263c"
      },
      "source": [
        "brown.sents(categories=['fiction'])"
      ],
      "execution_count": null,
      "outputs": [
        {
          "output_type": "execute_result",
          "data": {
            "text/plain": [
              "[['Thirty-three'], ['Scotty', 'did', 'not', 'go', 'back', 'to', 'school', '.'], ...]"
            ]
          },
          "metadata": {
            "tags": []
          },
          "execution_count": 3
        }
      ]
    },
    {
      "cell_type": "code",
      "metadata": {
        "colab": {
          "base_uri": "https://localhost:8080/"
        },
        "id": "2PXWK3lQtxo3",
        "outputId": "d261331e-ff3f-4ab3-92e0-ca6b2eccc40f"
      },
      "source": [
        "brown.words(fileids=['ck04'])"
      ],
      "execution_count": null,
      "outputs": [
        {
          "output_type": "execute_result",
          "data": {
            "text/plain": [
              "['The', 'Bishop', 'looked', 'at', 'him', 'coldly', ...]"
            ]
          },
          "metadata": {
            "tags": []
          },
          "execution_count": 4
        }
      ]
    },
    {
      "cell_type": "code",
      "metadata": {
        "colab": {
          "base_uri": "https://localhost:8080/"
        },
        "id": "UVngFhPbt8Xh",
        "outputId": "671fc2f0-46fc-432d-b6b9-d1d6849eeffd"
      },
      "source": [
        "fiction_text = brown.words(categories='fiction')\n",
        "fdist = nltk.FreqDist(w for w in fiction_text)\n",
        "modals = ['can', 'could', 'may', 'might', 'must', 'will']\n",
        "for m in modals:\n",
        "  print(m + ':', fdist[m])"
      ],
      "execution_count": null,
      "outputs": [
        {
          "output_type": "stream",
          "text": [
            "can: 37\n",
            "could: 166\n",
            "may: 8\n",
            "might: 44\n",
            "must: 55\n",
            "will: 52\n"
          ],
          "name": "stdout"
        }
      ]
    },
    {
      "cell_type": "code",
      "metadata": {
        "colab": {
          "base_uri": "https://localhost:8080/"
        },
        "id": "SseA_Se2t8aQ",
        "outputId": "869af97d-aa66-42fc-8f82-374b4ef58df0"
      },
      "source": [
        "adventure_text = brown.words(categories='adventure')\n",
        "fdist = nltk.FreqDist(w for w in adventure_text)\n",
        "modals = ['what', 'when', 'where', 'who']\n",
        "for m in modals:\n",
        "  print(m + ':', fdist[m], end=\" \")"
      ],
      "execution_count": null,
      "outputs": [
        {
          "output_type": "stream",
          "text": [
            "what: 110 when: 126 where: 53 who: 91 "
          ],
          "name": "stdout"
        }
      ]
    },
    {
      "cell_type": "code",
      "metadata": {
        "colab": {
          "base_uri": "https://localhost:8080/"
        },
        "id": "V6sXzPwHt8dn",
        "outputId": "2305eca8-afa1-4e8f-bbc5-c43c2193bb93"
      },
      "source": [
        "cfd = nltk.ConditionalFreqDist(\n",
        "    (genre, word)\n",
        "    for genre in brown.categories()\n",
        "    for word in brown.words(categories=genre))\n",
        "genres = ['news', 'religion', 'hobbies', 'fiction', 'romance', 'humor']\n",
        "modals = ['can', 'could', 'may', 'might', 'must', 'will']\n",
        "cfd.tabulate(conditions=genres, samples=modals)"
      ],
      "execution_count": null,
      "outputs": [
        {
          "output_type": "stream",
          "text": [
            "           can could   may might  must  will \n",
            "    news    93    86    66    38    50   389 \n",
            "religion    82    59    78    12    54    71 \n",
            " hobbies   268    58   131    22    83   264 \n",
            " fiction    37   166     8    44    55    52 \n",
            " romance    74   193    11    51    45    43 \n",
            "   humor    16    30     8     8     9    13 \n"
          ],
          "name": "stdout"
        }
      ]
    },
    {
      "cell_type": "code",
      "metadata": {
        "id": "dRKztxzv4YmZ",
        "colab": {
          "base_uri": "https://localhost:8080/"
        },
        "outputId": "c206033f-484b-4201-aae6-0d8d2520ebee"
      },
      "source": [
        "brown_tagged_sents = brown.tagged_sents(categories='fiction')\n",
        "brown_sents = brown.sents(categories='fiction')\n",
        "unigram_tagger = nltk.UnigramTagger(brown_tagged_sents)\n",
        "unigram_tagger.tag(brown_sents[1])"
      ],
      "execution_count": null,
      "outputs": [
        {
          "output_type": "execute_result",
          "data": {
            "text/plain": [
              "[('Scotty', 'NP'),\n",
              " ('did', 'DOD'),\n",
              " ('not', '*'),\n",
              " ('go', 'VB'),\n",
              " ('back', 'RB'),\n",
              " ('to', 'TO'),\n",
              " ('school', 'NN'),\n",
              " ('.', '.')]"
            ]
          },
          "metadata": {
            "tags": []
          },
          "execution_count": 11
        }
      ]
    },
    {
      "cell_type": "code",
      "metadata": {
        "colab": {
          "base_uri": "https://localhost:8080/"
        },
        "id": "Di9U_E_mvgPL",
        "outputId": "724f1469-d8bc-404a-c9cd-2f49254d3124"
      },
      "source": [
        "print(brown_sents[:2])"
      ],
      "execution_count": null,
      "outputs": [
        {
          "output_type": "stream",
          "text": [
            "[['Thirty-three'], ['Scotty', 'did', 'not', 'go', 'back', 'to', 'school', '.']]\n"
          ],
          "name": "stdout"
        }
      ]
    },
    {
      "cell_type": "code",
      "metadata": {
        "colab": {
          "base_uri": "https://localhost:8080/"
        },
        "id": "PzanubQevgTA",
        "outputId": "c9e6fdc1-3473-451c-90f4-e632ba204f56"
      },
      "source": [
        "unigram_tagger.evaluate(brown_tagged_sents)"
      ],
      "execution_count": null,
      "outputs": [
        {
          "output_type": "execute_result",
          "data": {
            "text/plain": [
              "0.9415956079897209"
            ]
          },
          "metadata": {
            "tags": []
          },
          "execution_count": 14
        }
      ]
    },
    {
      "cell_type": "code",
      "metadata": {
        "colab": {
          "base_uri": "https://localhost:8080/"
        },
        "id": "TpDEr_pEvgWO",
        "outputId": "90c45e34-9708-4dc4-f44b-92b51e29a75f"
      },
      "source": [
        "size = int(len(brown_tagged_sents) * 0.9)\n",
        "size"
      ],
      "execution_count": null,
      "outputs": [
        {
          "output_type": "execute_result",
          "data": {
            "text/plain": [
              "3824"
            ]
          },
          "metadata": {
            "tags": []
          },
          "execution_count": 15
        }
      ]
    },
    {
      "cell_type": "code",
      "metadata": {
        "colab": {
          "base_uri": "https://localhost:8080/"
        },
        "id": "dm59lnkGwR0M",
        "outputId": "af9c10b9-3bff-4b5c-a321-d632b1785d20"
      },
      "source": [
        "train_sents = brown_tagged_sents[:size]\n",
        "test_sents = brown_tagged_sents[size:]\n",
        "unigram_tagger = nltk.UnigramTagger(train_sents)\n",
        "unigram_tagger.evaluate(test_sents)"
      ],
      "execution_count": null,
      "outputs": [
        {
          "output_type": "execute_result",
          "data": {
            "text/plain": [
              "0.824455652601796"
            ]
          },
          "metadata": {
            "tags": []
          },
          "execution_count": 16
        }
      ]
    },
    {
      "cell_type": "code",
      "metadata": {
        "colab": {
          "base_uri": "https://localhost:8080/"
        },
        "id": "FB-d9CGAwR2l",
        "outputId": "fbdeb6bb-8d81-4645-d952-cab472a9f658"
      },
      "source": [
        "bigram_tagger = nltk.BigramTagger(train_sents)\n",
        "bigram_tagger.tag(brown_sents[10])"
      ],
      "execution_count": null,
      "outputs": [
        {
          "output_type": "execute_result",
          "data": {
            "text/plain": [
              "[('They', 'PPSS'),\n",
              " ('ate', 'VBD'),\n",
              " ('the', 'AT'),\n",
              " ('cafeteria', 'NN'),\n",
              " ('food', 'NN'),\n",
              " ('with', 'IN'),\n",
              " ('its', 'PP$'),\n",
              " ('orange', 'JJ'),\n",
              " ('sauces', 'NNS'),\n",
              " ('and', 'CC'),\n",
              " ('Scotty', 'NP'),\n",
              " ('gazed', 'VBD'),\n",
              " ('without', 'IN'),\n",
              " ('interest', 'NN'),\n",
              " ('at', 'IN'),\n",
              " ('his', 'PP$'),\n",
              " ('food', 'NN'),\n",
              " (',', ','),\n",
              " ('the', 'AT'),\n",
              " ('teachers', 'NNS'),\n",
              " (',', ','),\n",
              " ('the', 'AT'),\n",
              " ('heroic', 'JJ'),\n",
              " ('baronial', 'JJ'),\n",
              " ('windows', 'NNS'),\n",
              " (',', ','),\n",
              " ('and', 'CC'),\n",
              " ('the', 'AT'),\n",
              " ('bright', 'JJ'),\n",
              " ('ranks', 'NNS'),\n",
              " ('of', 'IN'),\n",
              " ('college', 'NN'),\n",
              " ('banners', 'NNS'),\n",
              " ('.', '.')]"
            ]
          },
          "metadata": {
            "tags": []
          },
          "execution_count": 17
        }
      ]
    },
    {
      "cell_type": "code",
      "metadata": {
        "colab": {
          "base_uri": "https://localhost:8080/"
        },
        "id": "uSeelexfwR6J",
        "outputId": "8ffc5986-fe9b-4433-d1e3-5bbeb22790d7"
      },
      "source": [
        "unseen_sent = brown_sents[500]\n",
        "bigram_tagger.tag(unseen_sent)"
      ],
      "execution_count": null,
      "outputs": [
        {
          "output_type": "execute_result",
          "data": {
            "text/plain": [
              "[('The', 'AT'),\n",
              " ('children', 'NNS'),\n",
              " ('had', 'HVD'),\n",
              " ('nowhere', 'RB'),\n",
              " ('to', 'IN'),\n",
              " ('go', None),\n",
              " ('and', None),\n",
              " ('no', None),\n",
              " ('place', None),\n",
              " ('to', None),\n",
              " ('play', None),\n",
              " (',', None),\n",
              " ('not', None),\n",
              " ('even', None),\n",
              " ('sidewalks', None),\n",
              " ('.', None)]"
            ]
          },
          "metadata": {
            "tags": []
          },
          "execution_count": 19
        }
      ]
    },
    {
      "cell_type": "code",
      "metadata": {
        "colab": {
          "base_uri": "https://localhost:8080/"
        },
        "id": "w1JYcwtow-qi",
        "outputId": "a7760092-0665-4415-adcc-43234b419794"
      },
      "source": [
        "bigram_tagger.evaluate(test_sents)"
      ],
      "execution_count": null,
      "outputs": [
        {
          "output_type": "execute_result",
          "data": {
            "text/plain": [
              "0.16742526756058557"
            ]
          },
          "metadata": {
            "tags": []
          },
          "execution_count": 20
        }
      ]
    },
    {
      "cell_type": "code",
      "metadata": {
        "colab": {
          "base_uri": "https://localhost:8080/"
        },
        "id": "--VhvPALxGEW",
        "outputId": "9cd36acc-042a-40a4-a7c9-988d1218f8ed"
      },
      "source": [
        "t0 = nltk.DefaultTagger('NN')\n",
        "t1 = nltk.UnigramTagger(train_sents, backoff=t0)\n",
        "t2 = nltk.BigramTagger(train_sents, backoff=t1)\n",
        "t2.evaluate(test_sents)"
      ],
      "execution_count": null,
      "outputs": [
        {
          "output_type": "execute_result",
          "data": {
            "text/plain": [
              "0.8657891499569442"
            ]
          },
          "metadata": {
            "tags": []
          },
          "execution_count": 21
        }
      ]
    },
    {
      "cell_type": "code",
      "metadata": {
        "colab": {
          "base_uri": "https://localhost:8080/"
        },
        "id": "l_TposQ9xGH4",
        "outputId": "f34887d6-4103-4c90-f298-b3cd82565eb6"
      },
      "source": [
        "t0 = nltk.DefaultTagger('NN')\n",
        "t1 = nltk.UnigramTagger(train_sents, backoff=t0)\n",
        "t2 = nltk.BigramTagger(train_sents, backoff=t1)\n",
        "t3 = nltk.TrigramTagger(train_sents, backoff=t2)\n",
        "t3.evaluate(test_sents)"
      ],
      "execution_count": null,
      "outputs": [
        {
          "output_type": "execute_result",
          "data": {
            "text/plain": [
              "0.8639439045393037"
            ]
          },
          "metadata": {
            "tags": []
          },
          "execution_count": 22
        }
      ]
    },
    {
      "cell_type": "code",
      "metadata": {
        "id": "Uh6XSoDqxGUk"
      },
      "source": [
        "from pickle import dump\n",
        "output = open('t3.pkl', 'wb')\n",
        "dump(t3, output, -1)\n",
        "output.close()"
      ],
      "execution_count": null,
      "outputs": []
    },
    {
      "cell_type": "code",
      "metadata": {
        "id": "uarye0mFxhXp"
      },
      "source": [
        "from pickle import load\n",
        "input = open('t3.pkl', 'rb')\n",
        "tagger = load(input)\n",
        "input.close()"
      ],
      "execution_count": null,
      "outputs": []
    },
    {
      "cell_type": "code",
      "metadata": {
        "colab": {
          "base_uri": "https://localhost:8080/"
        },
        "id": "zf_iLcj_xiNh",
        "outputId": "baf41bf7-e818-46af-ba98-946f5153ae83"
      },
      "source": [
        "text = \"\"\"Two roads diverged in a yellow wood,\n",
        "And sorry I could not travel both. \n",
        "And be one traveler, long I stood...\"\"\"\n",
        "tokens = text.split()\n",
        "tagger.tag(tokens)"
      ],
      "execution_count": null,
      "outputs": [
        {
          "output_type": "execute_result",
          "data": {
            "text/plain": [
              "[('Two', 'CD'),\n",
              " ('roads', 'NNS'),\n",
              " ('diverged', 'NN'),\n",
              " ('in', 'IN'),\n",
              " ('a', 'AT'),\n",
              " ('yellow', 'JJ'),\n",
              " ('wood,', 'NN'),\n",
              " ('And', 'CC'),\n",
              " ('sorry', 'JJ'),\n",
              " ('I', 'PPSS'),\n",
              " ('could', 'MD'),\n",
              " ('not', '*'),\n",
              " ('travel', 'VB'),\n",
              " ('both.', 'NN'),\n",
              " ('And', 'CC'),\n",
              " ('be', 'BE'),\n",
              " ('one', 'CD'),\n",
              " ('traveler,', 'NN'),\n",
              " ('long', 'JJ'),\n",
              " ('I', 'PPSS'),\n",
              " ('stood...', 'NN')]"
            ]
          },
          "metadata": {
            "tags": []
          },
          "execution_count": 25
        }
      ]
    }
  ]
}